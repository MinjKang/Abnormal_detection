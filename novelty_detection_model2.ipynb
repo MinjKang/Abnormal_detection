{
 "cells": [
  {
   "cell_type": "code",
   "execution_count": 1,
   "id": "69a42d59",
   "metadata": {},
   "outputs": [],
   "source": [
    "# 전처리 관련 모듈\n",
    "\n",
    "import warnings; warnings.simplefilter('ignore')\n",
    "import pandas as pd\n",
    "import numpy as np\n",
    "import matplotlib.pyplot as plt\n",
    "import seaborn as sns\n",
    "from sklearn.model_selection import train_test_split\n",
    "import missingno as msno"
   ]
  },
  {
   "cell_type": "code",
   "execution_count": 2,
   "id": "9ee5e9f9",
   "metadata": {
    "scrolled": true
   },
   "outputs": [
    {
     "data": {
      "text/html": [
       "<div>\n",
       "<style scoped>\n",
       "    .dataframe tbody tr th:only-of-type {\n",
       "        vertical-align: middle;\n",
       "    }\n",
       "\n",
       "    .dataframe tbody tr th {\n",
       "        vertical-align: top;\n",
       "    }\n",
       "\n",
       "    .dataframe thead th {\n",
       "        text-align: right;\n",
       "    }\n",
       "</style>\n",
       "<table border=\"1\" class=\"dataframe\">\n",
       "  <thead>\n",
       "    <tr style=\"text-align: right;\">\n",
       "      <th></th>\n",
       "      <th>sensor_00</th>\n",
       "      <th>sensor_01</th>\n",
       "      <th>sensor_02</th>\n",
       "      <th>sensor_03</th>\n",
       "      <th>sensor_04</th>\n",
       "      <th>sensor_05</th>\n",
       "      <th>sensor_06</th>\n",
       "      <th>sensor_07</th>\n",
       "      <th>sensor_08</th>\n",
       "      <th>sensor_09</th>\n",
       "      <th>...</th>\n",
       "      <th>sensor_43</th>\n",
       "      <th>sensor_44</th>\n",
       "      <th>sensor_45</th>\n",
       "      <th>sensor_46</th>\n",
       "      <th>sensor_47</th>\n",
       "      <th>sensor_48</th>\n",
       "      <th>sensor_49</th>\n",
       "      <th>sensor_50</th>\n",
       "      <th>sensor_51</th>\n",
       "      <th>machine_status</th>\n",
       "    </tr>\n",
       "  </thead>\n",
       "  <tbody>\n",
       "    <tr>\n",
       "      <th>0</th>\n",
       "      <td>2.465394</td>\n",
       "      <td>47.09201</td>\n",
       "      <td>53.2118</td>\n",
       "      <td>46.310760</td>\n",
       "      <td>634.3750</td>\n",
       "      <td>76.45975</td>\n",
       "      <td>13.41146</td>\n",
       "      <td>16.13136</td>\n",
       "      <td>15.56713</td>\n",
       "      <td>15.05353</td>\n",
       "      <td>...</td>\n",
       "      <td>41.92708</td>\n",
       "      <td>39.641200</td>\n",
       "      <td>65.68287</td>\n",
       "      <td>50.92593</td>\n",
       "      <td>38.194440</td>\n",
       "      <td>157.9861</td>\n",
       "      <td>67.70834</td>\n",
       "      <td>243.0556</td>\n",
       "      <td>201.3889</td>\n",
       "      <td>NORMAL</td>\n",
       "    </tr>\n",
       "    <tr>\n",
       "      <th>1</th>\n",
       "      <td>2.465394</td>\n",
       "      <td>47.09201</td>\n",
       "      <td>53.2118</td>\n",
       "      <td>46.310760</td>\n",
       "      <td>634.3750</td>\n",
       "      <td>76.45975</td>\n",
       "      <td>13.41146</td>\n",
       "      <td>16.13136</td>\n",
       "      <td>15.56713</td>\n",
       "      <td>15.05353</td>\n",
       "      <td>...</td>\n",
       "      <td>41.92708</td>\n",
       "      <td>39.641200</td>\n",
       "      <td>65.68287</td>\n",
       "      <td>50.92593</td>\n",
       "      <td>38.194440</td>\n",
       "      <td>157.9861</td>\n",
       "      <td>67.70834</td>\n",
       "      <td>243.0556</td>\n",
       "      <td>201.3889</td>\n",
       "      <td>NORMAL</td>\n",
       "    </tr>\n",
       "    <tr>\n",
       "      <th>2</th>\n",
       "      <td>2.444734</td>\n",
       "      <td>47.35243</td>\n",
       "      <td>53.2118</td>\n",
       "      <td>46.397570</td>\n",
       "      <td>638.8889</td>\n",
       "      <td>73.54598</td>\n",
       "      <td>13.32465</td>\n",
       "      <td>16.03733</td>\n",
       "      <td>15.61777</td>\n",
       "      <td>15.01013</td>\n",
       "      <td>...</td>\n",
       "      <td>41.66666</td>\n",
       "      <td>39.351852</td>\n",
       "      <td>65.39352</td>\n",
       "      <td>51.21528</td>\n",
       "      <td>38.194443</td>\n",
       "      <td>155.9606</td>\n",
       "      <td>67.12963</td>\n",
       "      <td>241.3194</td>\n",
       "      <td>203.7037</td>\n",
       "      <td>NORMAL</td>\n",
       "    </tr>\n",
       "    <tr>\n",
       "      <th>3</th>\n",
       "      <td>2.460474</td>\n",
       "      <td>47.09201</td>\n",
       "      <td>53.1684</td>\n",
       "      <td>46.397568</td>\n",
       "      <td>628.1250</td>\n",
       "      <td>76.98898</td>\n",
       "      <td>13.31742</td>\n",
       "      <td>16.24711</td>\n",
       "      <td>15.69734</td>\n",
       "      <td>15.08247</td>\n",
       "      <td>...</td>\n",
       "      <td>40.88541</td>\n",
       "      <td>39.062500</td>\n",
       "      <td>64.81481</td>\n",
       "      <td>51.21528</td>\n",
       "      <td>38.194440</td>\n",
       "      <td>155.9606</td>\n",
       "      <td>66.84028</td>\n",
       "      <td>240.4514</td>\n",
       "      <td>203.1250</td>\n",
       "      <td>NORMAL</td>\n",
       "    </tr>\n",
       "    <tr>\n",
       "      <th>4</th>\n",
       "      <td>2.445718</td>\n",
       "      <td>47.13541</td>\n",
       "      <td>53.2118</td>\n",
       "      <td>46.397568</td>\n",
       "      <td>636.4583</td>\n",
       "      <td>76.58897</td>\n",
       "      <td>13.35359</td>\n",
       "      <td>16.21094</td>\n",
       "      <td>15.69734</td>\n",
       "      <td>15.08247</td>\n",
       "      <td>...</td>\n",
       "      <td>41.40625</td>\n",
       "      <td>38.773150</td>\n",
       "      <td>65.10416</td>\n",
       "      <td>51.79398</td>\n",
       "      <td>38.773150</td>\n",
       "      <td>158.2755</td>\n",
       "      <td>66.55093</td>\n",
       "      <td>242.1875</td>\n",
       "      <td>201.3889</td>\n",
       "      <td>NORMAL</td>\n",
       "    </tr>\n",
       "  </tbody>\n",
       "</table>\n",
       "<p>5 rows × 53 columns</p>\n",
       "</div>"
      ],
      "text/plain": [
       "   sensor_00  sensor_01  sensor_02  sensor_03  sensor_04  sensor_05  \\\n",
       "0   2.465394   47.09201    53.2118  46.310760   634.3750   76.45975   \n",
       "1   2.465394   47.09201    53.2118  46.310760   634.3750   76.45975   \n",
       "2   2.444734   47.35243    53.2118  46.397570   638.8889   73.54598   \n",
       "3   2.460474   47.09201    53.1684  46.397568   628.1250   76.98898   \n",
       "4   2.445718   47.13541    53.2118  46.397568   636.4583   76.58897   \n",
       "\n",
       "   sensor_06  sensor_07  sensor_08  sensor_09  ...  sensor_43  sensor_44  \\\n",
       "0   13.41146   16.13136   15.56713   15.05353  ...   41.92708  39.641200   \n",
       "1   13.41146   16.13136   15.56713   15.05353  ...   41.92708  39.641200   \n",
       "2   13.32465   16.03733   15.61777   15.01013  ...   41.66666  39.351852   \n",
       "3   13.31742   16.24711   15.69734   15.08247  ...   40.88541  39.062500   \n",
       "4   13.35359   16.21094   15.69734   15.08247  ...   41.40625  38.773150   \n",
       "\n",
       "   sensor_45  sensor_46  sensor_47  sensor_48  sensor_49  sensor_50  \\\n",
       "0   65.68287   50.92593  38.194440   157.9861   67.70834   243.0556   \n",
       "1   65.68287   50.92593  38.194440   157.9861   67.70834   243.0556   \n",
       "2   65.39352   51.21528  38.194443   155.9606   67.12963   241.3194   \n",
       "3   64.81481   51.21528  38.194440   155.9606   66.84028   240.4514   \n",
       "4   65.10416   51.79398  38.773150   158.2755   66.55093   242.1875   \n",
       "\n",
       "   sensor_51  machine_status  \n",
       "0   201.3889          NORMAL  \n",
       "1   201.3889          NORMAL  \n",
       "2   203.7037          NORMAL  \n",
       "3   203.1250          NORMAL  \n",
       "4   201.3889          NORMAL  \n",
       "\n",
       "[5 rows x 53 columns]"
      ]
     },
     "execution_count": 2,
     "metadata": {},
     "output_type": "execute_result"
    }
   ],
   "source": [
    "dataset = pd.read_csv(\"sensor.csv\").iloc[:, 2:]\n",
    "dataset.fillna(0.0, inplace=True)\n",
    "dataset.head(5)"
   ]
  },
  {
   "cell_type": "code",
   "execution_count": 3,
   "id": "184c137c",
   "metadata": {},
   "outputs": [],
   "source": [
    "dataset.loc[dataset[\"machine_status\"]=='BROKEN', 'class'] = '0' #이상\n",
    "dataset.loc[dataset[\"machine_status\"]=='RECOVERING', 'class'] = '0' #이상\n",
    "dataset.loc[dataset[\"machine_status\"]=='NORMAL', 'class'] = '1' #정상"
   ]
  },
  {
   "cell_type": "code",
   "execution_count": 4,
   "id": "022db3e8",
   "metadata": {},
   "outputs": [],
   "source": [
    "del dataset['machine_status']"
   ]
  },
  {
   "cell_type": "code",
   "execution_count": 5,
   "id": "f24381f2",
   "metadata": {},
   "outputs": [
    {
     "data": {
      "text/plain": [
       "(205836, 53)"
      ]
     },
     "execution_count": 5,
     "metadata": {},
     "output_type": "execute_result"
    }
   ],
   "source": [
    "normal_dataset = dataset['class'].isin(['1'])\n",
    "normal_dataset = dataset.loc[normal_dataset]\n",
    "normal_dataset.shape"
   ]
  },
  {
   "cell_type": "code",
   "execution_count": 6,
   "id": "0520d771",
   "metadata": {},
   "outputs": [
    {
     "data": {
      "text/plain": [
       "(14484, 53)"
      ]
     },
     "execution_count": 6,
     "metadata": {},
     "output_type": "execute_result"
    }
   ],
   "source": [
    "abnormal_dataset = dataset['class'].isin(['0'])\n",
    "abnormal_dataset = dataset.loc[abnormal_dataset]\n",
    "abnormal_dataset.shape"
   ]
  },
  {
   "cell_type": "code",
   "execution_count": 7,
   "id": "b5433993",
   "metadata": {},
   "outputs": [
    {
     "data": {
      "text/plain": [
       "((14322, 53), (28644, 53))"
      ]
     },
     "execution_count": 7,
     "metadata": {},
     "output_type": "execute_result"
    }
   ],
   "source": [
    "chosen_idx = np.random.choice(205836, size =16000)\n",
    "test_dataset_normal = normal_dataset[normal_dataset.index.isin(chosen_idx)]\n",
    "\n",
    "test_dataset = pd.concat([test_dataset_normal, abnormal_dataset.iloc[:test_dataset_normal.shape[0], :]])\n",
    "test_dataset_normal.shape, test_dataset.shape"
   ]
  },
  {
   "cell_type": "code",
   "execution_count": 8,
   "id": "052f8ba8",
   "metadata": {},
   "outputs": [
    {
     "data": {
      "text/plain": [
       "(191514, 53)"
      ]
     },
     "execution_count": 8,
     "metadata": {},
     "output_type": "execute_result"
    }
   ],
   "source": [
    "train_dataset = normal_dataset[~normal_dataset.index.isin(chosen_idx)]\n",
    "train_dataset.shape"
   ]
  },
  {
   "cell_type": "code",
   "execution_count": 9,
   "id": "f42f72dc",
   "metadata": {},
   "outputs": [
    {
     "data": {
      "text/plain": [
       "((191514,), (28644,))"
      ]
     },
     "execution_count": 9,
     "metadata": {},
     "output_type": "execute_result"
    }
   ],
   "source": [
    "train_y = train_dataset['class']\n",
    "test_y = test_dataset['class']\n",
    "\n",
    "del train_dataset['class']\n",
    "del test_dataset['class']\n",
    "\n",
    "train_y.shape, test_y.shape"
   ]
  },
  {
   "cell_type": "code",
   "execution_count": 10,
   "id": "0db7b757",
   "metadata": {},
   "outputs": [
    {
     "data": {
      "text/plain": [
       "((191514, 52), (28644, 52))"
      ]
     },
     "execution_count": 10,
     "metadata": {},
     "output_type": "execute_result"
    }
   ],
   "source": [
    "from sklearn.preprocessing import StandardScaler, MinMaxScaler, RobustScaler\n",
    "\n",
    "scaler = MinMaxScaler()\n",
    "X_scaled_train  = scaler.fit_transform(train_dataset)\n",
    "X_scaled_test  = scaler.fit_transform(test_dataset)\n",
    "X_scaled_train.shape, X_scaled_test.shape"
   ]
  },
  {
   "cell_type": "code",
   "execution_count": 11,
   "id": "authentic-commonwealth",
   "metadata": {},
   "outputs": [],
   "source": [
    "import math \n",
    "from sklearn.model_selection import train_test_split, GridSearchCV\n",
    "from sklearn.neighbors import KNeighborsClassifier\n",
    "from sklearn.metrics import make_scorer, accuracy_score, f1_score, confusion_matrix, classification_report\n",
    "from sklearn.metrics import precision_recall_fscore_support as score"
   ]
  },
  {
   "cell_type": "code",
   "execution_count": 12,
   "id": "aware-profile",
   "metadata": {},
   "outputs": [
    {
     "data": {
      "image/png": "[encoded data removed]",
      "text/plain": [
       "<Figure size 500x100 with 1 Axes>"
      ]
     },
     "metadata": {},
     "output_type": "display_data"
    }
   ],
   "source": [
    "plt.figure(figsize=(5,1))\n",
    "fig = sns.countplot(y=train_y, data=train_y, color='#fc9272')\n",
    "plt.show()"
   ]
  },
  {
   "cell_type": "code",
   "execution_count": 13,
   "id": "confident-mouse",
   "metadata": {},
   "outputs": [
    {
     "data": {
      "image/png": "[encoded data removed]",
      "text/plain": [
       "<Figure size 500x100 with 1 Axes>"
      ]
     },
     "metadata": {},
     "output_type": "display_data"
    }
   ],
   "source": [
    "plt.figure(figsize=(5,1))\n",
    "fig = sns.countplot(y=test_y, data=test_y, palette=[\"#fc9272\", \"#bcbddc\"])\n",
    "plt.show()"
   ]
  },
  {
   "cell_type": "code",
   "execution_count": 14,
   "id": "about-outdoors",
   "metadata": {},
   "outputs": [],
   "source": [
    "from sklearn.metrics import make_scorer, accuracy_score, f1_score, confusion_matrix, classification_report\n",
    "from sklearn.metrics import precision_recall_fscore_support as score"
   ]
  },
  {
   "cell_type": "markdown",
   "id": "9f17fde3",
   "metadata": {},
   "source": [
    "### knn"
   ]
  },
  {
   "cell_type": "code",
   "execution_count": 15,
   "id": "e4f667c3",
   "metadata": {
    "scrolled": true
   },
   "outputs": [
    {
     "data": {
      "text/plain": [
       "KNN(algorithm='auto', contamination=0.1, leaf_size=30, method='largest',\n",
       "  metric='minkowski', metric_params=None, n_jobs=1, n_neighbors=3, p=2,\n",
       "  radius=2.0)"
      ]
     },
     "execution_count": 15,
     "metadata": {},
     "output_type": "execute_result"
    }
   ],
   "source": [
    "from pyod.models.knn import KNN\n",
    "knn = KNN(contamination=0.1, n_neighbors=3, radius=2.0)\n",
    "knn.fit(X_scaled_train)"
   ]
  },
  {
   "cell_type": "code",
   "execution_count": 16,
   "id": "64b7c07d",
   "metadata": {
    "scrolled": true
   },
   "outputs": [],
   "source": [
    "anomaly_score_knn_train = knn.decision_function(X_scaled_train)\n",
    "anomaly_score_knn_sorted = sorted(anomaly_score_knn_train)"
   ]
  },
  {
   "cell_type": "code",
   "execution_count": 17,
   "id": "6f68efc7",
   "metadata": {},
   "outputs": [],
   "source": [
    "knn_test_pred = knn.predict(X_scaled_test) "
   ]
  },
  {
   "cell_type": "code",
   "execution_count": 18,
   "id": "f648ef78",
   "metadata": {
    "scrolled": true
   },
   "outputs": [
    {
     "data": {
      "text/plain": [
       "(28644,)"
      ]
     },
     "execution_count": 18,
     "metadata": {},
     "output_type": "execute_result"
    }
   ],
   "source": [
    "anomaly_score_knn_test = knn.decision_function(X_scaled_test)\n",
    "anomaly_score_knn_test.shape"
   ]
  },
  {
   "cell_type": "code",
   "execution_count": 19,
   "id": "c74b758d",
   "metadata": {},
   "outputs": [],
   "source": [
    "error = np.array(anomaly_score_knn_sorted)     \n",
    "error = error.reshape(-1,1)\n",
    "\n",
    "error_test=np.array(anomaly_score_knn_test)\n",
    "error_test = error_test.reshape(-1,1)"
   ]
  },
  {
   "cell_type": "code",
   "execution_count": 20,
   "id": "0fe6ab6e",
   "metadata": {},
   "outputs": [],
   "source": [
    "thresh_knn = np.percentile(error, 95)"
   ]
  },
  {
   "cell_type": "code",
   "execution_count": 21,
   "id": "1192afe2",
   "metadata": {},
   "outputs": [],
   "source": [
    "# classifier\n",
    "df_test = []\n",
    "\n",
    "def novelty_classifier(novelty_score):\n",
    "    for i in range(len(novelty_score)):\n",
    "        if novelty_score[i] > thresh_knn:\n",
    "            df_test.append('1')\n",
    "        else:\n",
    "            df_test.append('0')"
   ]
  },
  {
   "cell_type": "code",
   "execution_count": 22,
   "id": "7c266317",
   "metadata": {},
   "outputs": [],
   "source": [
    "novelty_classifier(error_test)"
   ]
  },
  {
   "cell_type": "code",
   "execution_count": 23,
   "id": "3cd26137",
   "metadata": {},
   "outputs": [],
   "source": [
    "def measure_performance(model, X_test, y_true, map_labels):\n",
    "    # predict on testset\n",
    "\n",
    "    df_pred_test = pd.DataFrame(X_test, columns=['Pred'])\n",
    "    x_pred = df_pred_test['Pred'] \n",
    "    \n",
    "    matrix = confusion_matrix(x_pred, y_true)\n",
    "\n",
    "    sns.heatmap(pd.DataFrame(matrix, columns = ['Actual', 'Predicted']),\n",
    "                xticklabels=['Normal [0]', 'Abnormal [1]'], \n",
    "                yticklabels=['Normal [0]', 'Abnormal [1]'], \n",
    "                annot=True, fmt=\"d\", linewidths=.5, cmap=\"YlGnBu\")\n",
    "    plt.ylabel('Predicted')\n",
    "    plt.xlabel('Actual')\n",
    "    \n",
    "    print(classification_report(X_test, y_true))\n",
    "    \n",
    "    model_score = score(X_test, y_true,average='macro')\n",
    "    print(f'f1_score: {np.round(model_score[2]*100, 2)}%')\n",
    "    \n",
    "    return model_score"
   ]
  },
  {
   "cell_type": "code",
   "execution_count": 24,
   "id": "50624030",
   "metadata": {
    "scrolled": true
   },
   "outputs": [
    {
     "name": "stdout",
     "output_type": "stream",
     "text": [
      "              precision    recall  f1-score   support\n",
      "\n",
      "           0       0.00      0.00      0.00         0\n",
      "           1       1.00      0.50      0.67     28644\n",
      "\n",
      "    accuracy                           0.50     28644\n",
      "   macro avg       0.50      0.25      0.33     28644\n",
      "weighted avg       1.00      0.50      0.67     28644\n",
      "\n",
      "f1_score: 33.33%\n"
     ]
    },
    {
     "data": {
      "image/png": "[encoded data removed]",
      "text/plain": [
       "<Figure size 640x480 with 2 Axes>"
      ]
     },
     "metadata": {},
     "output_type": "display_data"
    }
   ],
   "source": [
    "map_labels = True \n",
    "model_score = measure_performance(knn, df_test, test_y, map_labels)\n",
    "performance_df = pd.DataFrame().append({'model_name':knn, \n",
    "                                    'f1_score': model_score[0], \n",
    "                                    'precision': model_score[1], \n",
    "                                    'recall': model_score[2]}, ignore_index=True)"
   ]
  },
  {
   "cell_type": "code",
   "execution_count": null,
   "id": "9614d8d6",
   "metadata": {},
   "outputs": [],
   "source": []
  },
  {
   "cell_type": "code",
   "execution_count": 25,
   "id": "d4f3501d",
   "metadata": {},
   "outputs": [],
   "source": [
    "#CBLOF  Cluster-based Local Outlier Factor"
   ]
  },
  {
   "cell_type": "code",
   "execution_count": 26,
   "id": "e7aee2e6",
   "metadata": {},
   "outputs": [
    {
     "data": {
      "text/plain": [
       "CBLOF(alpha=0.9, beta=5, check_estimator=False, clustering_estimator=None,\n",
       "   contamination=0.1, n_clusters=8, n_jobs=None, random_state=1,\n",
       "   use_weights=False)"
      ]
     },
     "execution_count": 26,
     "metadata": {},
     "output_type": "execute_result"
    }
   ],
   "source": [
    "from pyod.models.cblof import CBLOF\n",
    "CBLOF = CBLOF(contamination=0.1, check_estimator=False, random_state=1)\n",
    "CBLOF.fit(X_scaled_train)"
   ]
  },
  {
   "cell_type": "code",
   "execution_count": 27,
   "id": "da4fca8c",
   "metadata": {
    "scrolled": true
   },
   "outputs": [
    {
     "data": {
      "text/plain": [
       "array([0.32252411, 0.32252411, 0.30247061, ..., 0.28749495, 0.29497238,\n",
       "       0.29452071])"
      ]
     },
     "execution_count": 27,
     "metadata": {},
     "output_type": "execute_result"
    }
   ],
   "source": [
    "anomaly_score_CBLOF_train = CBLOF.decision_function(X_scaled_train)\n",
    "anomaly_score_CBLOF_train"
   ]
  },
  {
   "cell_type": "code",
   "execution_count": 28,
   "id": "e723589a",
   "metadata": {},
   "outputs": [],
   "source": [
    "anomaly_score_CBLOF_sorted = sorted(anomaly_score_CBLOF_train)"
   ]
  },
  {
   "cell_type": "code",
   "execution_count": 29,
   "id": "96a879a9",
   "metadata": {},
   "outputs": [],
   "source": [
    "CBLOF_test_pred = CBLOF.predict(X_scaled_test) "
   ]
  },
  {
   "cell_type": "code",
   "execution_count": 30,
   "id": "3b5a8df4",
   "metadata": {
    "scrolled": true
   },
   "outputs": [
    {
     "data": {
      "text/plain": [
       "(28644,)"
      ]
     },
     "execution_count": 30,
     "metadata": {},
     "output_type": "execute_result"
    }
   ],
   "source": [
    "anomaly_score_CBLOF_test = CBLOF.decision_function(X_scaled_test)\n",
    "anomaly_score_CBLOF_test.shape"
   ]
  },
  {
   "cell_type": "code",
   "execution_count": 31,
   "id": "e7b0ddd7",
   "metadata": {},
   "outputs": [],
   "source": [
    "error = np.array(anomaly_score_CBLOF_sorted)     \n",
    "error = error.reshape(-1,1)\n",
    "\n",
    "error_test=np.array(anomaly_score_CBLOF_test)\n",
    "error_test = error_test.reshape(-1,1)"
   ]
  },
  {
   "cell_type": "code",
   "execution_count": 32,
   "id": "73dd5e9a",
   "metadata": {},
   "outputs": [],
   "source": [
    "thresh_CBLOF = np.percentile(error, 50)"
   ]
  },
  {
   "cell_type": "code",
   "execution_count": 33,
   "id": "2c056850",
   "metadata": {},
   "outputs": [],
   "source": [
    "# classifier\n",
    "df_test = []\n",
    "\n",
    "def novelty_classifier(novelty_score):\n",
    "    for i in range(len(novelty_score)):\n",
    "        if novelty_score[i] > thresh_CBLOF:\n",
    "            df_test.append('1')\n",
    "        else:\n",
    "            df_test.append('0')"
   ]
  },
  {
   "cell_type": "code",
   "execution_count": 34,
   "id": "05fa064e",
   "metadata": {},
   "outputs": [],
   "source": [
    "novelty_classifier(error_test)"
   ]
  },
  {
   "cell_type": "code",
   "execution_count": 35,
   "id": "7a7f4bd8",
   "metadata": {},
   "outputs": [],
   "source": [
    "def measure_performance(model, X_test, y_true, map_labels):\n",
    "    # predict on testset\n",
    "\n",
    "    df_pred_test = pd.DataFrame(X_test, columns=['Pred'])\n",
    "    x_pred = df_pred_test['Pred'] \n",
    "    \n",
    "    matrix = confusion_matrix(x_pred, y_true)\n",
    "\n",
    "    sns.heatmap(pd.DataFrame(matrix, columns = ['Actual', 'Predicted']),\n",
    "                xticklabels=['Normal [0]', 'Abnormal [1]'], \n",
    "                yticklabels=['Normal [0]', 'Abnormal [1]'], \n",
    "                annot=True, fmt=\"d\", linewidths=.5, cmap=\"YlGnBu\")\n",
    "    plt.ylabel('Predicted')\n",
    "    plt.xlabel('Actual')\n",
    "    \n",
    "    print(classification_report(X_test, y_true))\n",
    "    \n",
    "    model_score = score(X_test, y_true,average='macro')\n",
    "    print(f'f1_score: {np.round(model_score[2]*100, 2)}%')\n",
    "    \n",
    "    return model_score"
   ]
  },
  {
   "cell_type": "code",
   "execution_count": 36,
   "id": "392b0034",
   "metadata": {
    "scrolled": false
   },
   "outputs": [
    {
     "name": "stdout",
     "output_type": "stream",
     "text": [
      "              precision    recall  f1-score   support\n",
      "\n",
      "           0       0.00      0.00      0.00         0\n",
      "           1       1.00      0.50      0.67     28644\n",
      "\n",
      "    accuracy                           0.50     28644\n",
      "   macro avg       0.50      0.25      0.33     28644\n",
      "weighted avg       1.00      0.50      0.67     28644\n",
      "\n",
      "f1_score: 33.33%\n"
     ]
    },
    {
     "data": {
      "image/png": "[encoded data removed]",
      "text/plain": [
       "<Figure size 640x480 with 2 Axes>"
      ]
     },
     "metadata": {},
     "output_type": "display_data"
    }
   ],
   "source": [
    "map_labels = True \n",
    "model_score = measure_performance(CBLOF, df_test, test_y, map_labels)\n",
    "performance_df = pd.DataFrame().append({'model_name':CBLOF, \n",
    "                                    'f1_score': model_score[0], \n",
    "                                    'precision': model_score[1], \n",
    "                                    'recall': model_score[2]}, ignore_index=True)"
   ]
  },
  {
   "cell_type": "code",
   "execution_count": null,
   "id": "f29308e7",
   "metadata": {},
   "outputs": [],
   "source": []
  },
  {
   "cell_type": "code",
   "execution_count": 37,
   "id": "567aa952",
   "metadata": {},
   "outputs": [
    {
     "data": {
      "text/plain": [
       "HBOS(alpha=0.1, contamination=0.1, n_bins=10, tol=0.5)"
      ]
     },
     "execution_count": 37,
     "metadata": {},
     "output_type": "execute_result"
    }
   ],
   "source": [
    "from pyod.models.hbos import HBOS\n",
    "HBOS = HBOS(contamination=0.1)\n",
    "HBOS.fit(X_scaled_train)"
   ]
  },
  {
   "cell_type": "code",
   "execution_count": 38,
   "id": "f80a8e27",
   "metadata": {
    "scrolled": true
   },
   "outputs": [
    {
     "data": {
      "text/plain": [
       "array([0.32252411, 0.32252411, 0.30247061, ..., 0.28749495, 0.29497238,\n",
       "       0.29452071])"
      ]
     },
     "execution_count": 38,
     "metadata": {},
     "output_type": "execute_result"
    }
   ],
   "source": [
    "anomaly_score_HBOS_train = CBLOF.decision_function(X_scaled_train)\n",
    "anomaly_score_HBOS_train"
   ]
  },
  {
   "cell_type": "code",
   "execution_count": 39,
   "id": "91f397b0",
   "metadata": {},
   "outputs": [],
   "source": [
    "anomaly_score_HBOS_sorted = sorted(anomaly_score_HBOS_train)"
   ]
  },
  {
   "cell_type": "code",
   "execution_count": 40,
   "id": "70d82ad9",
   "metadata": {},
   "outputs": [],
   "source": [
    "HBOS_test_pred = HBOS.predict(X_scaled_test) "
   ]
  },
  {
   "cell_type": "code",
   "execution_count": 41,
   "id": "3c970a36",
   "metadata": {
    "scrolled": true
   },
   "outputs": [
    {
     "data": {
      "text/plain": [
       "(28644,)"
      ]
     },
     "execution_count": 41,
     "metadata": {},
     "output_type": "execute_result"
    }
   ],
   "source": [
    "anomaly_score_HBOS_test = HBOS.decision_function(X_scaled_test)\n",
    "anomaly_score_HBOS_test.shape"
   ]
  },
  {
   "cell_type": "code",
   "execution_count": 42,
   "id": "10a76797",
   "metadata": {},
   "outputs": [],
   "source": [
    "error = np.array(anomaly_score_HBOS_sorted)     \n",
    "error = error.reshape(-1,1)\n",
    "\n",
    "error_test=np.array(anomaly_score_HBOS_test)\n",
    "error_test = error_test.reshape(-1,1)"
   ]
  },
  {
   "cell_type": "code",
   "execution_count": 43,
   "id": "17177cda",
   "metadata": {},
   "outputs": [],
   "source": [
    "thresh_HBOS = np.percentile(error, 95)"
   ]
  },
  {
   "cell_type": "code",
   "execution_count": 44,
   "id": "480cf4a4",
   "metadata": {},
   "outputs": [],
   "source": [
    "# classifier\n",
    "df_test = []\n",
    "\n",
    "def novelty_classifier(novelty_score):\n",
    "    for i in range(len(novelty_score)):\n",
    "        if novelty_score[i] > thresh_HBOS:\n",
    "            df_test.append('1')\n",
    "        else:\n",
    "            df_test.append('0')"
   ]
  },
  {
   "cell_type": "code",
   "execution_count": 45,
   "id": "0d48af88",
   "metadata": {},
   "outputs": [],
   "source": [
    "novelty_classifier(error_test)"
   ]
  },
  {
   "cell_type": "code",
   "execution_count": 46,
   "id": "2268fb28",
   "metadata": {},
   "outputs": [],
   "source": [
    "def measure_performance(model, X_test, y_true, map_labels):\n",
    "    # predict on testset\n",
    "\n",
    "    df_pred_test = pd.DataFrame(X_test, columns=['Pred'])\n",
    "    x_pred = df_pred_test['Pred'] \n",
    "    \n",
    "    matrix = confusion_matrix(x_pred, y_true)\n",
    "\n",
    "    sns.heatmap(pd.DataFrame(matrix, columns = ['Actual', 'Predicted']),\n",
    "                xticklabels=['Normal [0]', 'Abnormal [1]'], \n",
    "                yticklabels=['Normal [0]', 'Abnormal [1]'], \n",
    "                annot=True, fmt=\"d\", linewidths=.5, cmap=\"YlGnBu\")\n",
    "    plt.ylabel('Predicted')\n",
    "    plt.xlabel('Actual')\n",
    "    \n",
    "    print(classification_report(X_test, y_true))\n",
    "    \n",
    "    model_score = score(X_test, y_true,average='macro')\n",
    "    print(f'f1_score: {np.round(model_score[2]*100, 2)}%')\n",
    "    \n",
    "    return model_score"
   ]
  },
  {
   "cell_type": "code",
   "execution_count": 47,
   "id": "f1eb37f2",
   "metadata": {
    "scrolled": false
   },
   "outputs": [
    {
     "name": "stdout",
     "output_type": "stream",
     "text": [
      "              precision    recall  f1-score   support\n",
      "\n",
      "           0       0.86      0.47      0.61     26449\n",
      "           1       0.02      0.12      0.03      2195\n",
      "\n",
      "    accuracy                           0.44     28644\n",
      "   macro avg       0.44      0.29      0.32     28644\n",
      "weighted avg       0.80      0.44      0.56     28644\n",
      "\n",
      "f1_score: 31.96%\n"
     ]
    },
    {
     "data": {
      "image/png": "[encoded data removed]",
      "text/plain": [
       "<Figure size 640x480 with 2 Axes>"
      ]
     },
     "metadata": {},
     "output_type": "display_data"
    }
   ],
   "source": [
    "map_labels = True \n",
    "model_score = measure_performance(HBOS, df_test, test_y, map_labels)\n",
    "performance_df = pd.DataFrame().append({'model_name':HBOS, \n",
    "                                    'f1_score': model_score[0], \n",
    "                                    'precision': model_score[1], \n",
    "                                    'recall': model_score[2]}, ignore_index=True)"
   ]
  },
  {
   "cell_type": "code",
   "execution_count": 48,
   "id": "fd344649",
   "metadata": {},
   "outputs": [
    {
     "data": {
      "text/plain": [
       "MCD(assume_centered=False, contamination=0.001, random_state=5,\n",
       "  store_precision=True, support_fraction=None)"
      ]
     },
     "execution_count": 48,
     "metadata": {},
     "output_type": "execute_result"
    }
   ],
   "source": [
    "from pyod.models.mcd import MCD\n",
    "MCD = MCD(contamination=0.001, random_state=5)\n",
    "MCD.fit(X_scaled_train)"
   ]
  },
  {
   "cell_type": "code",
   "execution_count": 49,
   "id": "1863ed6b",
   "metadata": {
    "scrolled": true
   },
   "outputs": [
    {
     "data": {
      "text/plain": [
       "array([ 77.67042902,  77.67042902,  73.26923426, ..., 169.88014347,\n",
       "       157.93151366, 151.55939601])"
      ]
     },
     "execution_count": 49,
     "metadata": {},
     "output_type": "execute_result"
    }
   ],
   "source": [
    "anomaly_score_MCD_train = MCD.decision_function(X_scaled_train)\n",
    "anomaly_score_MCD_train"
   ]
  },
  {
   "cell_type": "code",
   "execution_count": 50,
   "id": "bafec549",
   "metadata": {},
   "outputs": [],
   "source": [
    "anomaly_score_MCD_sorted = sorted(anomaly_score_MCD_train)"
   ]
  },
  {
   "cell_type": "code",
   "execution_count": 51,
   "id": "913cacf6",
   "metadata": {},
   "outputs": [],
   "source": [
    "MCD_test_pred = MCD.predict(X_scaled_test) "
   ]
  },
  {
   "cell_type": "code",
   "execution_count": 52,
   "id": "0ce792d9",
   "metadata": {
    "scrolled": true
   },
   "outputs": [
    {
     "data": {
      "text/plain": [
       "(28644,)"
      ]
     },
     "execution_count": 52,
     "metadata": {},
     "output_type": "execute_result"
    }
   ],
   "source": [
    "anomaly_score_MCD_test = MCD.decision_function(X_scaled_test)\n",
    "anomaly_score_MCD_test.shape"
   ]
  },
  {
   "cell_type": "code",
   "execution_count": 53,
   "id": "27d5aa3a",
   "metadata": {},
   "outputs": [],
   "source": [
    "error = np.array(anomaly_score_MCD_sorted)     \n",
    "error = error.reshape(-1,1)\n",
    "\n",
    "error_test=np.array(anomaly_score_MCD_test)\n",
    "error_test = error_test.reshape(-1,1)"
   ]
  },
  {
   "cell_type": "code",
   "execution_count": 54,
   "id": "e04e734e",
   "metadata": {},
   "outputs": [],
   "source": [
    "thresh_MCD = np.percentile(error, 95)"
   ]
  },
  {
   "cell_type": "code",
   "execution_count": 55,
   "id": "221cdd45",
   "metadata": {},
   "outputs": [],
   "source": [
    "# classifier\n",
    "df_test = []\n",
    "\n",
    "def novelty_classifier(novelty_score):\n",
    "    for i in range(len(novelty_score)):\n",
    "        if novelty_score[i] > thresh_MCD:\n",
    "            df_test.append('1')\n",
    "        else:\n",
    "            df_test.append('0')"
   ]
  },
  {
   "cell_type": "code",
   "execution_count": 56,
   "id": "fd8e4230",
   "metadata": {},
   "outputs": [],
   "source": [
    "novelty_classifier(error_test)"
   ]
  },
  {
   "cell_type": "code",
   "execution_count": 57,
   "id": "61d4c8f1",
   "metadata": {},
   "outputs": [],
   "source": [
    "def measure_performance(model, X_test, y_true, map_labels):\n",
    "    # predict on testset\n",
    "\n",
    "    df_pred_test = pd.DataFrame(X_test, columns=['Pred'])\n",
    "    x_pred = df_pred_test['Pred'] \n",
    "    \n",
    "    matrix = confusion_matrix(x_pred, y_true)\n",
    "\n",
    "    sns.heatmap(pd.DataFrame(matrix, columns = ['Actual', 'Predicted']),\n",
    "                xticklabels=['Normal [0]', 'Abnormal [1]'], \n",
    "                yticklabels=['Normal [0]', 'Abnormal [1]'], \n",
    "                annot=True, fmt=\"d\", linewidths=.5, cmap=\"YlGnBu\")\n",
    "    plt.ylabel('Predicted')\n",
    "    plt.xlabel('Actual')\n",
    "    \n",
    "    print(classification_report(X_test, y_true))\n",
    "    \n",
    "    model_score = score(X_test, y_true,average='macro')\n",
    "    print(f'f1_score: {np.round(model_score[2]*100, 2)}%')\n",
    "    \n",
    "    return model_score"
   ]
  },
  {
   "cell_type": "code",
   "execution_count": 58,
   "id": "80db9498",
   "metadata": {
    "scrolled": false
   },
   "outputs": [
    {
     "name": "stdout",
     "output_type": "stream",
     "text": [
      "              precision    recall  f1-score   support\n",
      "\n",
      "           0       0.00      0.00      0.00     12302\n",
      "           1       0.14      0.12      0.13     16342\n",
      "\n",
      "    accuracy                           0.07     28644\n",
      "   macro avg       0.07      0.06      0.07     28644\n",
      "weighted avg       0.08      0.07      0.08     28644\n",
      "\n",
      "f1_score: 6.59%\n"
     ]
    },
    {
     "data": {
      "image/png": "[encoded data removed]",
      "text/plain": [
       "<Figure size 640x480 with 2 Axes>"
      ]
     },
     "metadata": {},
     "output_type": "display_data"
    }
   ],
   "source": [
    "map_labels = True \n",
    "model_score = measure_performance(MCD, df_test, test_y, map_labels)\n",
    "performance_df = pd.DataFrame().append({'model_name':MCD, \n",
    "                                    'f1_score': model_score[0], \n",
    "                                    'precision': model_score[1], \n",
    "                                    'recall': model_score[2]}, ignore_index=True)"
   ]
  },
  {
   "cell_type": "code",
   "execution_count": null,
   "id": "783c276b",
   "metadata": {},
   "outputs": [],
   "source": []
  },
  {
   "cell_type": "code",
   "execution_count": 59,
   "id": "1ad9f876",
   "metadata": {},
   "outputs": [
    {
     "data": {
      "text/plain": [
       "PCA(contamination=0.1, copy=True, iterated_power='auto', n_components=None,\n",
       "  n_selected_components=None, random_state=None, standardization=True,\n",
       "  svd_solver='auto', tol=0.0, weighted=True, whiten=False)"
      ]
     },
     "execution_count": 59,
     "metadata": {},
     "output_type": "execute_result"
    }
   ],
   "source": [
    "from pyod.models.pca import PCA\n",
    "PCA = PCA(contamination=0.1)\n",
    "PCA.fit(X_scaled_train)"
   ]
  },
  {
   "cell_type": "code",
   "execution_count": 60,
   "id": "58ff4e39",
   "metadata": {
    "scrolled": true
   },
   "outputs": [
    {
     "data": {
      "text/plain": [
       "array([2.68857253e+33, 2.68857253e+33, 2.68536481e+33, ...,\n",
       "       4.42254418e+33, 4.39627965e+33, 4.32233752e+33])"
      ]
     },
     "execution_count": 60,
     "metadata": {},
     "output_type": "execute_result"
    }
   ],
   "source": [
    "anomaly_score_PCA_train = PCA.decision_function(X_scaled_train)\n",
    "anomaly_score_PCA_train"
   ]
  },
  {
   "cell_type": "code",
   "execution_count": 61,
   "id": "8e50ffcd",
   "metadata": {},
   "outputs": [],
   "source": [
    "anomaly_score_PCA_sorted = sorted(anomaly_score_PCA_train)"
   ]
  },
  {
   "cell_type": "code",
   "execution_count": 62,
   "id": "ef9956e1",
   "metadata": {},
   "outputs": [],
   "source": [
    "PCA_test_pred = PCA.predict(X_scaled_test) "
   ]
  },
  {
   "cell_type": "code",
   "execution_count": 63,
   "id": "69003dfe",
   "metadata": {
    "scrolled": true
   },
   "outputs": [
    {
     "data": {
      "text/plain": [
       "(28644,)"
      ]
     },
     "execution_count": 63,
     "metadata": {},
     "output_type": "execute_result"
    }
   ],
   "source": [
    "anomaly_score_PCA_test = PCA.decision_function(X_scaled_test)\n",
    "anomaly_score_PCA_test.shape"
   ]
  },
  {
   "cell_type": "code",
   "execution_count": 64,
   "id": "89b4cc25",
   "metadata": {},
   "outputs": [],
   "source": [
    "error = np.array(anomaly_score_PCA_sorted)     \n",
    "error = error.reshape(-1,1)\n",
    "\n",
    "error_test=np.array(anomaly_score_PCA_test)\n",
    "error_test = error_test.reshape(-1,1)"
   ]
  },
  {
   "cell_type": "code",
   "execution_count": 65,
   "id": "9bed7d12",
   "metadata": {},
   "outputs": [],
   "source": [
    "thresh_PCA = np.percentile(error, 95)"
   ]
  },
  {
   "cell_type": "code",
   "execution_count": 66,
   "id": "9bcab9df",
   "metadata": {},
   "outputs": [],
   "source": [
    "# classifier\n",
    "df_test = []\n",
    "\n",
    "def novelty_classifier(novelty_score):\n",
    "    for i in range(len(novelty_score)):\n",
    "        if novelty_score[i] > thresh_PCA:\n",
    "            df_test.append('1')\n",
    "        else:\n",
    "            df_test.append('0')"
   ]
  },
  {
   "cell_type": "code",
   "execution_count": 67,
   "id": "fac24e4b",
   "metadata": {},
   "outputs": [],
   "source": [
    "novelty_classifier(error_test)"
   ]
  },
  {
   "cell_type": "code",
   "execution_count": 68,
   "id": "d0811e77",
   "metadata": {},
   "outputs": [],
   "source": [
    "def measure_performance(model, X_test, y_true, map_labels):\n",
    "    # predict on testset\n",
    "\n",
    "    df_pred_test = pd.DataFrame(X_test, columns=['Pred'])\n",
    "    x_pred = df_pred_test['Pred'] \n",
    "    \n",
    "    matrix = confusion_matrix(x_pred, y_true)\n",
    "\n",
    "    sns.heatmap(pd.DataFrame(matrix, columns = ['Actual', 'Predicted']),\n",
    "                xticklabels=['Normal [0]', 'Abnormal [1]'], \n",
    "                yticklabels=['Normal [0]', 'Abnormal [1]'], \n",
    "                annot=True, fmt=\"d\", linewidths=.5, cmap=\"YlGnBu\")\n",
    "    plt.ylabel('Predicted')\n",
    "    plt.xlabel('Actual')\n",
    "    \n",
    "    print(classification_report(X_test, y_true))\n",
    "    \n",
    "    model_score = score(X_test, y_true,average='macro')\n",
    "    print(f'f1_score: {np.round(model_score[2]*100, 2)}%')\n",
    "    \n",
    "    return model_score"
   ]
  },
  {
   "cell_type": "code",
   "execution_count": 69,
   "id": "890a3cec",
   "metadata": {
    "scrolled": false
   },
   "outputs": [
    {
     "name": "stdout",
     "output_type": "stream",
     "text": [
      "              precision    recall  f1-score   support\n",
      "\n",
      "           0       0.00      0.00      0.00       104\n",
      "           1       0.99      0.50      0.66     28540\n",
      "\n",
      "    accuracy                           0.50     28644\n",
      "   macro avg       0.50      0.25      0.33     28644\n",
      "weighted avg       0.99      0.50      0.66     28644\n",
      "\n",
      "f1_score: 33.17%\n"
     ]
    },
    {
     "data": {
      "image/png": "[encoded data removed]",
      "text/plain": [
       "<Figure size 640x480 with 2 Axes>"
      ]
     },
     "metadata": {},
     "output_type": "display_data"
    }
   ],
   "source": [
    "map_labels = True \n",
    "model_score = measure_performance(PCA, df_test, test_y, map_labels)\n",
    "performance_df = pd.DataFrame().append({'model_name':PCA, \n",
    "                                    'f1_score': model_score[0], \n",
    "                                    'precision': model_score[1], \n",
    "                                    'recall': model_score[2]}, ignore_index=True)"
   ]
  },
  {
   "cell_type": "code",
   "execution_count": 195,
   "id": "d743e306",
   "metadata": {},
   "outputs": [
    {
     "data": {
      "text/plain": [
       "OCSVM(cache_size=200, coef0=0.0, contamination=0.1, degree=10, gamma='auto',\n",
       "   kernel='rbf', max_iter=-1, nu=0.5, shrinking=True, tol=0.001,\n",
       "   verbose=False)"
      ]
     },
     "execution_count": 195,
     "metadata": {},
     "output_type": "execute_result"
    }
   ],
   "source": [
    "from pyod.models.ocsvm import OCSVM\n",
    "OCSVM = OCSVM(kernel='rbf', degree=10, gamma='auto', nu=0.5)\n",
    "OCSVM.fit(X_scaled_train)"
   ]
  },
  {
   "cell_type": "code",
   "execution_count": null,
   "id": "9f1fb341",
   "metadata": {
    "scrolled": true
   },
   "outputs": [],
   "source": [
    "anomaly_score_OCSVM_train = OCSVM.decision_function(X_scaled_train)\n",
    "anomaly_score_OCSVM_train"
   ]
  },
  {
   "cell_type": "code",
   "execution_count": null,
   "id": "12e70269",
   "metadata": {},
   "outputs": [],
   "source": [
    "anomaly_score_OCSVM_sorted = sorted(anomaly_score_OCSVM_train)"
   ]
  },
  {
   "cell_type": "code",
   "execution_count": null,
   "id": "21462ef2",
   "metadata": {},
   "outputs": [],
   "source": [
    "OCSVM_test_pred = OCSVM.predict(X_scaled_test) "
   ]
  },
  {
   "cell_type": "code",
   "execution_count": null,
   "id": "1aa1b021",
   "metadata": {
    "scrolled": true
   },
   "outputs": [],
   "source": [
    "anomaly_score_OCSVM_test = OCSVM.decision_function(X_scaled_test)\n",
    "anomaly_score_OCSVM_test.shape"
   ]
  },
  {
   "cell_type": "code",
   "execution_count": null,
   "id": "96c08352",
   "metadata": {},
   "outputs": [],
   "source": [
    "error = np.array(anomaly_score_OCSVM_sorted)     \n",
    "error = error.reshape(-1,1)\n",
    "\n",
    "error_test=np.array(anomaly_score_OCSVM_test)\n",
    "error_test = error_test.reshape(-1,1)"
   ]
  },
  {
   "cell_type": "code",
   "execution_count": null,
   "id": "59e2caf4",
   "metadata": {},
   "outputs": [],
   "source": [
    "thresh_OCSVM = np.percentile(error, 95)"
   ]
  },
  {
   "cell_type": "code",
   "execution_count": null,
   "id": "a8d52e1a",
   "metadata": {},
   "outputs": [],
   "source": [
    "# classifier\n",
    "df_test = []\n",
    "\n",
    "def novelty_classifier(novelty_score):\n",
    "    for i in range(len(novelty_score)):\n",
    "        if novelty_score[i] > thresh_OCSVM:\n",
    "            df_test.append('1')\n",
    "        else:\n",
    "            df_test.append('0')"
   ]
  },
  {
   "cell_type": "code",
   "execution_count": null,
   "id": "77f0e27a",
   "metadata": {},
   "outputs": [],
   "source": [
    "novelty_classifier(error_test)"
   ]
  },
  {
   "cell_type": "code",
   "execution_count": null,
   "id": "e2784113",
   "metadata": {},
   "outputs": [],
   "source": [
    "def measure_performance(model, X_test, y_true, map_labels):\n",
    "    # predict on testset\n",
    "\n",
    "    df_pred_test = pd.DataFrame(X_test, columns=['Pred'])\n",
    "    x_pred = df_pred_test['Pred'] \n",
    "    \n",
    "    matrix = confusion_matrix(x_pred, y_true)\n",
    "\n",
    "    sns.heatmap(pd.DataFrame(matrix, columns = ['Actual', 'Predicted']),\n",
    "                xticklabels=['Normal [0]', 'Abnormal [1]'], \n",
    "                yticklabels=['Normal [0]', 'Abnormal [1]'], \n",
    "                annot=True, fmt=\"d\", linewidths=.5, cmap=\"YlGnBu\")\n",
    "    plt.ylabel('Predicted')\n",
    "    plt.xlabel('Actual')\n",
    "    \n",
    "    print(classification_report(X_test, y_true))\n",
    "    \n",
    "    model_score = score(X_test, y_true,average='macro')\n",
    "    print(f'f1_score: {np.round(model_score[2]*100, 2)}%')\n",
    "    \n",
    "    return model_score"
   ]
  },
  {
   "cell_type": "code",
   "execution_count": null,
   "id": "3c06ea0f",
   "metadata": {
    "scrolled": false
   },
   "outputs": [],
   "source": [
    "map_labels = True \n",
    "model_score = measure_performance(OCSVM, df_test, test_y, map_labels)\n",
    "performance_df = pd.DataFrame().append({'model_name':OCSVM, \n",
    "                                    'f1_score': model_score[0], \n",
    "                                    'precision': model_score[1], \n",
    "                                    'recall': model_score[2]}, ignore_index=True)"
   ]
  },
  {
   "cell_type": "code",
   "execution_count": null,
   "id": "92d64c74",
   "metadata": {},
   "outputs": [],
   "source": []
  },
  {
   "cell_type": "code",
   "execution_count": 81,
   "id": "79833c2e",
   "metadata": {},
   "outputs": [
    {
     "data": {
      "text/plain": [
       "IForest(behaviour='old', bootstrap=False, contamination=0.005,\n",
       "    max_features=1.0, max_samples='auto', n_estimators=10, n_jobs=1,\n",
       "    random_state=3, verbose=0)"
      ]
     },
     "execution_count": 81,
     "metadata": {},
     "output_type": "execute_result"
    }
   ],
   "source": [
    "from pyod.models.iforest import IForest\n",
    "IForest = IForest(n_estimators=10, contamination=0.005, random_state=3, verbose=0, bootstrap=False)\n",
    "IForest.fit(X_scaled_train)"
   ]
  },
  {
   "cell_type": "code",
   "execution_count": 82,
   "id": "4b34bc0a",
   "metadata": {
    "scrolled": true
   },
   "outputs": [
    {
     "data": {
      "text/plain": [
       "array([-0.26682634, -0.26682634, -0.28186317, ..., -0.19574654,\n",
       "       -0.18325443, -0.18254053])"
      ]
     },
     "execution_count": 82,
     "metadata": {},
     "output_type": "execute_result"
    }
   ],
   "source": [
    "anomaly_score_IForest_train = IForest.decision_function(X_scaled_train)\n",
    "anomaly_score_IForest_train"
   ]
  },
  {
   "cell_type": "code",
   "execution_count": 83,
   "id": "fd76822e",
   "metadata": {},
   "outputs": [],
   "source": [
    "anomaly_score_IForest_sorted = sorted(anomaly_score_IForest_train)"
   ]
  },
  {
   "cell_type": "code",
   "execution_count": 84,
   "id": "c462f4fa",
   "metadata": {},
   "outputs": [],
   "source": [
    "IForest_test_pred = IForest.predict(X_scaled_test) "
   ]
  },
  {
   "cell_type": "code",
   "execution_count": 85,
   "id": "cf9dcd4c",
   "metadata": {
    "scrolled": true
   },
   "outputs": [
    {
     "data": {
      "text/plain": [
       "(28644,)"
      ]
     },
     "execution_count": 85,
     "metadata": {},
     "output_type": "execute_result"
    }
   ],
   "source": [
    "anomaly_score_IForest_test = IForest.decision_function(X_scaled_test)\n",
    "anomaly_score_IForest_test.shape"
   ]
  },
  {
   "cell_type": "code",
   "execution_count": 86,
   "id": "08036c8e",
   "metadata": {},
   "outputs": [],
   "source": [
    "error = np.array(anomaly_score_IForest_sorted)     \n",
    "error = error.reshape(-1,1)\n",
    "\n",
    "error_test=np.array(anomaly_score_IForest_test)\n",
    "error_test = error_test.reshape(-1,1)"
   ]
  },
  {
   "cell_type": "code",
   "execution_count": 87,
   "id": "48281357",
   "metadata": {},
   "outputs": [],
   "source": [
    "thresh_IForest = np.percentile(error, 95)"
   ]
  },
  {
   "cell_type": "code",
   "execution_count": 88,
   "id": "f524b0de",
   "metadata": {},
   "outputs": [],
   "source": [
    "# classifier\n",
    "df_test = []\n",
    "\n",
    "def novelty_classifier(novelty_score):\n",
    "    for i in range(len(novelty_score)):\n",
    "        if novelty_score[i] > thresh_IForest:\n",
    "            df_test.append('1')\n",
    "        else:\n",
    "            df_test.append('0')"
   ]
  },
  {
   "cell_type": "code",
   "execution_count": 89,
   "id": "43ee70de",
   "metadata": {},
   "outputs": [],
   "source": [
    "novelty_classifier(error_test)"
   ]
  },
  {
   "cell_type": "code",
   "execution_count": 90,
   "id": "86bcd6da",
   "metadata": {},
   "outputs": [],
   "source": [
    "def measure_performance(model, X_test, y_true, map_labels):\n",
    "    # predict on testset\n",
    "\n",
    "    df_pred_test = pd.DataFrame(X_test, columns=['Pred'])\n",
    "    x_pred = df_pred_test['Pred'] \n",
    "    \n",
    "    matrix = confusion_matrix(x_pred, y_true)\n",
    "\n",
    "    sns.heatmap(pd.DataFrame(matrix, columns = ['Actual', 'Predicted']),\n",
    "                xticklabels=['Normal [0]', 'Abnormal [1]'], \n",
    "                yticklabels=['Normal [0]', 'Abnormal [1]'], \n",
    "                annot=True, fmt=\"d\", linewidths=.5, cmap=\"YlGnBu\")\n",
    "    plt.ylabel('Predicted')\n",
    "    plt.xlabel('Actual')\n",
    "    \n",
    "    print(classification_report(X_test, y_true))\n",
    "    \n",
    "    model_score = score(X_test, y_true,average='macro')\n",
    "    print(f'f1_score: {np.round(model_score[2]*100, 2)}%')\n",
    "    \n",
    "    return model_score"
   ]
  },
  {
   "cell_type": "code",
   "execution_count": 91,
   "id": "0ee7d0f6",
   "metadata": {
    "scrolled": false
   },
   "outputs": [
    {
     "name": "stdout",
     "output_type": "stream",
     "text": [
      "              precision    recall  f1-score   support\n",
      "\n",
      "           0       0.01      0.02      0.02      9542\n",
      "           1       0.35      0.26      0.30     19102\n",
      "\n",
      "    accuracy                           0.18     28644\n",
      "   macro avg       0.18      0.14      0.16     28644\n",
      "weighted avg       0.24      0.18      0.20     28644\n",
      "\n",
      "f1_score: 15.73%\n"
     ]
    },
    {
     "data": {
      "image/png": "[encoded data removed]",
      "text/plain": [
       "<Figure size 640x480 with 2 Axes>"
      ]
     },
     "metadata": {},
     "output_type": "display_data"
    }
   ],
   "source": [
    "map_labels = True \n",
    "model_score = measure_performance(IForest, df_test, test_y, map_labels)\n",
    "performance_df = pd.DataFrame().append({'model_name':IForest, \n",
    "                                    'f1_score': model_score[0], \n",
    "                                    'precision': model_score[1], \n",
    "                                    'recall': model_score[2]}, ignore_index=True)"
   ]
  },
  {
   "cell_type": "code",
   "execution_count": null,
   "id": "9d2b7ff9",
   "metadata": {},
   "outputs": [],
   "source": []
  },
  {
   "cell_type": "code",
   "execution_count": null,
   "id": "681b1139",
   "metadata": {},
   "outputs": [],
   "source": []
  },
  {
   "cell_type": "code",
   "execution_count": null,
   "id": "7262ee37",
   "metadata": {},
   "outputs": [],
   "source": []
  },
  {
   "cell_type": "code",
   "execution_count": null,
   "id": "fbb24ed5",
   "metadata": {},
   "outputs": [],
   "source": []
  },
  {
   "cell_type": "code",
   "execution_count": null,
   "id": "55650f45",
   "metadata": {},
   "outputs": [],
   "source": []
  }
 ],
 "metadata": {
  "kernelspec": {
   "display_name": "Python 3 (ipykernel)",
   "language": "python",
   "name": "python3"
  },
  "language_info": {
   "codemirror_mode": {
    "name": "ipython",
    "version": 3
   },
   "file_extension": ".py",
   "mimetype": "text/x-python",
   "name": "python",
   "nbconvert_exporter": "python",
   "pygments_lexer": "ipython3",
   "version": "3.8.0"
  }
 },
 "nbformat": 4,
 "nbformat_minor": 5
}
